{
 "cells": [
  {
   "cell_type": "code",
   "execution_count": null,
   "metadata": {},
   "outputs": [],
   "source": [
    "# data_exploration.ipynb\n",
    "\n",
    "# Import the required libraries and modules\n",
    "import pandas as pd\n",
    "import numpy as np\n",
    "import sagemaker\n",
    "from sagemaker import Session, FeatureStore\n",
    "from sagemaker.feature_store.feature_group import FeatureGroup\n",
    "\n",
    "# Define the Sagemaker session and the feature store\n",
    "session = Session()\n",
    "feature_store = FeatureStore(session=session)\n",
    "\n",
    "# Define the feature group for the fused data\n",
    "fused_feature_group = FeatureGroup(name=\"fused-feature-group\", sagemaker_session=session)\n",
    "\n",
    "# Define a function to load the fused data from the feature store\n",
    "def load_data():\n",
    "    # Load the feature group from the feature store as a pandas dataframe\n",
    "    df = fused_feature_group.as_dataframe()\n",
    "    # Return the dataframe\n",
    "    return df\n",
    "\n",
    "# Load the fused data from the feature store\n",
    "df = load_data()\n",
    "\n",
    "# Explore the data\n",
    "# Display the first five rows of the data\n",
    "df.head()\n",
    "\n",
    "# Display the shape of the data\n",
    "df.shape\n",
    "\n",
    "# Display the summary statistics of the data\n",
    "df.describe()\n",
    "\n",
    "# Display the data types of the columns\n",
    "df.dtypes\n",
    "\n",
    "# Display the number of missing values in each column\n",
    "df.isnull().sum()\n",
    "\n",
    "# Display the number of unique values in each column\n",
    "df.nunique()\n",
    "\n",
    "# Display the correlation matrix of the data\n",
    "df.corr()"
   ]
  }
 ],
 "metadata": {
  "language_info": {
   "name": "python"
  }
 },
 "nbformat": 4,
 "nbformat_minor": 2
}
